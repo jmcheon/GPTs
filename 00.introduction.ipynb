{
 "cells": [
  {
   "cell_type": "code",
   "execution_count": 2,
   "metadata": {},
   "outputs": [],
   "source": [
    "# from langchain.llms.openai import OpenAI\n",
    "from langchain.chat_models import ChatOpenAI\n",
    "\n",
    "chat = ChatOpenAI(temperature=0.1)\n",
    "chat.predict(\"How many planets are there?\")"
   ]
  },
  {
   "cell_type": "markdown",
   "metadata": {},
   "source": [
    "\n",
    "Expected output: \"There are eight recognized planets in our solar system, including Mercury, Venus, Earth, Mars, Jupiter, Saturn, Uranus, and Neptune.\" "
   ]
  },
  {
   "cell_type": "code",
   "execution_count": null,
   "metadata": {},
   "outputs": [],
   "source": [
    "from langchain.schema import HumanMessage, AIMessage, SystemMessage\n",
    "\n",
    "messages = [\n",
    "    SystemMessage(content=\"You are a geography export and you only reply in French.\"),\n",
    "    AIMessage(content=\"Bonjour, je m'appelle Jungmoo\"),\n",
    "    HumanMessage(content=\"What is the distance between South Korea and France. Also, what is your name?\")\n",
    "]\n",
    "\n",
    "chat.predict_messages(messages)"
   ]
  },
  {
   "cell_type": "markdown",
   "metadata": {},
   "source": [
    "\n",
    "Expected output: \"Bonjour! Je m'appelle Jungmoo. La distance entre la Corée du Sud et la France est d'environ 8 500 kilomètres en ligne droite.\""
   ]
  },
  {
   "cell_type": "code",
   "execution_count": null,
   "metadata": {},
   "outputs": [],
   "source": [
    "from langchain.prompts import PromptTemplate \n",
    "\n",
    "template = PromptTemplate.from_template(\"What is the distance between {country_a} and {country_b}.\")\n",
    "prompt = template.format(country_a=\"South Korea\", country_b=\"France\")\n",
    "chat.predict(prompt)"
   ]
  },
  {
   "cell_type": "markdown",
   "metadata": {},
   "source": [
    "\n",
    "Expected output: \"The distance between South Korea and France is approximately 8,500 kilometers (5,280 miles).\""
   ]
  },
  {
   "cell_type": "code",
   "execution_count": null,
   "metadata": {},
   "outputs": [],
   "source": [
    "from langchain.prompts import ChatPromptTemplate\n",
    "\n",
    "template = ChatPromptTemplate.from_messages([\n",
    "    (\"system\", \"You are a geography export and you only reply in {language}.\"),\n",
    "    (\"ai\", \"Bonjour, je m'appelle {name}\"),\n",
    "    (\"human\", \"What is the distance between {country_a} and {country_b}. Also, what is your name?\")\n",
    "])\n",
    "\n",
    "prompt = template.format_messages(\n",
    "    language=\"French\",\n",
    "    name=\"Cheon\",\n",
    "    country_a=\"South Korea\",\n",
    "    country_b=\"France\"\n",
    ")\n",
    "\n",
    "chat.predict_messages(prompt)"
   ]
  },
  {
   "cell_type": "markdown",
   "metadata": {},
   "source": [
    "\n",
    "Expected output: \"Bonjour! Je m'appelle Cheon. La distance entre la Corée du Sud et la France est d'environ 8 500 kilomètres en ligne droite.\""
   ]
  },
  {
   "cell_type": "code",
   "execution_count": null,
   "metadata": {},
   "outputs": [],
   "source": [
    "#OutputParser\n",
    "from langchain.schema import BaseOutputParser\n",
    "\n",
    "class CommaOutputParser(BaseOutputParser):\n",
    "    def parse(self, text):\n",
    "        items = text.strip().split(\",\")\n",
    "        return list(map(str.strip, items))\n",
    "\n",
    "template = ChatPromptTemplate.from_messages([\n",
    "    (\"system\", \"You are a list generating machine. Everything you are asked will be answered with a comma separated list of max {max_items} in lowercase. Do not reply anything else.\"),\n",
    "    (\"human\", \"{question}\")\n",
    "])\n",
    "\n",
    "prompt = template.format_messages(max_items=10, question=\"what are the colors?\")\n",
    "result = chat.predict_messages(prompt)\n",
    "\n",
    "p = CommaOutputParser()\n",
    "p.parse(result.content)"
   ]
  },
  {
   "cell_type": "markdown",
   "metadata": {},
   "source": [
    "\n",
    "Expected output: [\"red\", \"green\", \"indigo\", \"blue\", \"pink\", \"black\", \"white\", \"gray\", \"violet\", \"yellow\"]"
   ]
  },
  {
   "cell_type": "code",
   "execution_count": null,
   "metadata": {},
   "outputs": [],
   "source": [
    "# Langchain expression language\n",
    "# chain : Prompt Template | Chat Model | Output Parser\n",
    "chain = template | chat | CommaOutputParser()\n",
    "chain.invoke({\n",
    "    \"max_items\":5,\n",
    "    \"queation\":\"What are pokemons?\"\n",
    "})"
   ]
  },
  {
   "cell_type": "markdown",
   "metadata": {},
   "source": [
    "Expected output: [\"pikachu\", \"charizard\", \"bulbasaur\", \"squirtle\", \"jigglypuff\"]"
   ]
  },
  {
   "cell_type": "code",
   "execution_count": null,
   "metadata": {},
   "outputs": [],
   "source": [
    "# Multiple chains\n",
    "from langchain.callbacks import StreamingStdOutCallbackHandler\n",
    "\n",
    "chat = ChatOpenAI(temperature=0.1, streaming=True, callbacks=[StreamingStdOutCallbackHandler])\n",
    "chef_prompt = ChatPromptTemplate.from_messages([\n",
    "    (\"system\", \"You are a world-class international chef. You create easy to follow recipies for any type of cuisine with easy to find ingredients\"),\n",
    "    (\"human\", \"I want to cook {cuisine} food.\")\n",
    "])\n",
    "\n",
    "chef_chain = chef_prompt | chat\n",
    "\n",
    "veg_chef_prompt = ChatPromptTemplate.from_messages([\n",
    "    (\"system\", \"You are a vegetarian chef specialized on making traditional recipies vegetarian. You find alternative ingredients and explain their preparation. You don't radically modify the recipe. If there is no alternative for a food just say you don't know how to replace it.\"),\n",
    "    (\"human\", {recipe})\n",
    "])\n",
    "\n",
    "veg_chef_chain = veg_chef_prompt | chat\n",
    "\n",
    "final_chain = {\"recipe\":chef_chain} | veg_chef_chain\n",
    "\n",
    "final_chain.invoke({\n",
    "    \"cuisine\":\"indian\"\n",
    "})"
   ]
  },
  {
   "cell_type": "markdown",
   "metadata": {},
   "source": [
    "Expected output:</br>\n",
    "      That's great! Indian cuisine is known for its rich flavors and diverse range of dishes. Here's a simple recipe for you to try:</br>\n",
    "      Butter Chicken (Murgh Makhani):\n",
    "      Ingredients:</br>\n",
    "      - 500g boneless chicken cut into pieces</br>\n",
    "      - 2 tablespoons butter</br>\n",
    "      - 1 onion finely chopped</br>\n",
    "      - 2 teaspoons ginger-garlic paste</br>\n",
    "      - 2 teaspoons red chili powder</br>\n",
    "      - 1 teaspoon turmeric powder</br>\n",
    "      - 1 teaspoon garam masala</br>\n",
    "      - 1 cup tomato puree</br>\n",
    "      - 1/2 cup heavy cream</br>\n",
    "      - Salt to taste</br>\n",
    "      - Fresh coriander leaves for garnish</br>\n",
    "      </br>\n",
    "      Instructions:</br>\n",
    "      1. Heat butter in a pan and add the chopped onions. Sauté until they turn golden brown.</br>\n",
    "      2. Add ginger-garlic paste and cook for a minute until the raw smell disappears.</br>\n",
    "      3. Add red chili powder, turmeric powder, and garam masala. Mix well.</br>\n",
    "      4. Add tomato puree and cook for 5-7 minutes until the oil separates from the masala.</br>\n",
    "      5. Add the chicken pieces and cook until they are no longer pink.</br>\n",
    "      6. Pour in the heavy cream and mix well. Simmer for 10-15 minutes until the chicken is cooked through and the sauce thickens.</br>\n",
    "      7. Adjust the salt according to your taste.</br>\n",
    "      8. Garnish with fresh coriander leaves and serve hot with naan or rice.</br>\n",
    "      </br>\n",
    "      Remember, Indian cuisine offers a wide variety of dishes, so feel free to explore and experiment with different recipes and flavors. Enjoy your cooking!Butter Chicken (Murgh Makhani) is a popular Indian dish known for its rich and creamy tomato-based sauce. To make this recipe vegetarian, you can replace the chicken with a suitable alternative such as tofu or paneer (Indian cottage cheese). Here's how you can modify the recipe:</br>\n",
    "      </br>\n",
    "      Ingredients:</br>\n",
    "      - 500g tofu or paneer, cut into pieces</br>\n",
    "      - 2 tablespoons butter (or vegan butter for a vegan version)</br>\n",
    "      - 1 onion, finely chopped</br>\n",
    "      - 2 teaspoons ginger-garlic paste</br>\n",
    "      - 2 teaspoons red chili powder</br>\n",
    "      - 1 teaspoon turmeric powder</br>\n",
    "      - 1 teaspoon garam masala</br>\n",
    "      - 1 cup tomato puree</br>\n",
    "      - 1/2 cup heavy cream (or coconut cream for a vegan version)</br>\n",
    "      - Salt to taste</br>\n",
    "      - Fresh coriander leaves for garnish</br>\n",
    "      </br>\n",
    "      Instructions:</br>\n",
    "      1. Heat butter in a pan and add the chopped onions. Sauté until they turn golden brown.</br>\n",
    "      2. Add ginger-garlic paste and cook for a minute until the raw smell disappears.</br>\n",
    "      3. Add red chili powder, turmeric powder, and garam masala. Mix well.</br>\n",
    "      4. Add tomato puree and cook for 5-7 minutes until the oil separates from the masala.</br>\n",
    "      5. Add the tofu or paneer pieces and cook until they are heated through.</br>\n",
    "      6. Pour in the heavy cream (or coconut cream) and mix well. Simmer for 10-15 minutes until the sauce thickens.</br>\n",
    "      7. Adjust the salt according to your taste.</br>\n",
    "      8. Garnish with fresh coriander leaves and serve hot with naan or rice.</br>\n",
    "      </br>\n",
    "      By substituting the chicken with tofu or paneer, you can still enjoy the flavors and textures of this classic Indian dish while keeping it vegetarian.\n",
    "\n",
    ",[\n",
    "       \"AIMessageChunk(content=\\\"Butter Chicken (Murgh Makhani) is a popular Indian dish known for its rich and creamy tomato-based sauce. To make this recipe vegetarian, you can replace the chicken with a suitable alternative such as tofu or paneer (Indian cottage cheese). Here's how you can modify the recipe:\\\\n\\\\nIngredients:\\\\n- 500g tofu or paneer, cut into pieces\\\\n- 2 tablespoons butter (or vegan butter for a vegan version)\\\\n- 1 onion, finely chopped\\\\n- 2 teaspoons ginger-garlic paste\\\\n- 2 teaspoons red chili powder\\\\n- 1 teaspoon turmeric powder\\\\n- 1 teaspoon garam masala\\\\n- 1 cup tomato puree\\\\n- 1/2 cup heavy cream (or coconut cream for a vegan version)\\\\n- Salt to taste\\\\n- Fresh coriander leaves for garnish\\\\n\\\\nInstructions:\\\\n1. Heat butter in a pan and add the chopped onions. Sauté until they turn golden brown.\\\\n2. Add ginger-garlic paste and cook for a minute until the raw smell disappears.\\\\n3. Add red chili powder, turmeric powder, and garam masala. Mix well.\\\\n4. Add tomato puree and cook for 5-7 minutes until the oil separates from the masala.\\\\n5. Add the tofu or paneer pieces and cook until they are heated through.\\\\n6. Pour in the heavy cream (or coconut cream) and mix well. Simmer for 10-15 minutes until the sauce thickens.\\\\n7. Adjust the salt according to your taste.\\\\n8. Garnish with fresh coriander leaves and serve hot with naan or rice.\\\\n\\\\nBy substituting the chicken with tofu or paneer, you can still enjoy the flavors and textures of this classic Indian dish while keeping it vegetarian.\\\")\"\n",
    "      ]"
   ]
  }
 ],
 "metadata": {
  "kernelspec": {
   "display_name": "env",
   "language": "python",
   "name": "python3"
  },
  "language_info": {
   "codemirror_mode": {
    "name": "ipython",
    "version": 3
   },
   "file_extension": ".py",
   "mimetype": "text/x-python",
   "name": "python",
   "nbconvert_exporter": "python",
   "pygments_lexer": "ipython3",
   "version": "3.11.8"
  }
 },
 "nbformat": 4,
 "nbformat_minor": 2
}
