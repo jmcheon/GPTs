{
 "cells": [
  {
   "cell_type": "markdown",
   "metadata": {},
   "source": [
    "# Load Hugging Face Model"
   ]
  },
  {
   "cell_type": "code",
   "execution_count": 66,
   "metadata": {},
   "outputs": [
    {
     "name": "stdout",
     "output_type": "stream",
     "text": [
      "The token has not been saved to the git credentials helper. Pass `add_to_git_credential=True` in this function directly or `--add-to-git-credential` if using via `huggingface-cli` if you want to set the git credential as well.\n",
      "Token is valid (permission: read).\n",
      "Your token has been saved to /home/cjung-mo/.cache/huggingface/token\n",
      "Login successful\n"
     ]
    }
   ],
   "source": [
    "from langchain_huggingface import HuggingFaceEndpoint\n",
    "from langchain.callbacks import StreamingStdOutCallbackHandler\n",
    "\n",
    "repo_id = \"google/gemma-2-2b-it\"\n",
    "llm = HuggingFaceEndpoint(\n",
    "    repo_id=repo_id,\n",
    "    streaming=True,\n",
    "    temperature=0.7,\n",
    "    callbacks=[StreamingStdOutCallbackHandler()]\n",
    ")"
   ]
  },
  {
   "cell_type": "code",
   "execution_count": 17,
   "metadata": {},
   "outputs": [],
   "source": [
    "import warnings\n",
    "\n",
    "warnings.filterwarnings(\"ignore\", category=FutureWarning)"
   ]
  },
  {
   "cell_type": "code",
   "execution_count": 19,
   "metadata": {},
   "outputs": [
    {
     "name": "stdout",
     "output_type": "stream",
     "text": [
      "\n",
      "\n",
      "Let's break down these concepts in the context of prompt engineering for large language models (LLMs).\n",
      "\n",
      "**1. Serialization**\n",
      "\n",
      "* **What it is:** Serialization is the process of converting a data structure (like a Python list, dictionary, or a complex object) into a string format that can be easily stored, transmitted, or processed. Think of it as packaging your data into a neat, portable box.\n",
      "* **Why it matters in prompt engineering:**  LLMs are powerful but can be picky about the format of the input they receive.  You might need to serialize your data into a specific format (like JSON) to ensure the LLM understands it correctly. \n",
      "* **Example:**  Let's say you want to provide a list of movie titles to an LLM for a movie recommendation task. You might serialize this list into JSON format:\n",
      "\n",
      "```json\n",
      "[\n",
      "  \"The Shawshank Redemption\",\n",
      "  \"Pulp Fiction\",\n",
      "  \"The Dark Knight\"\n",
      "]\n",
      "```\n",
      "\n",
      "**2. Composition**\n",
      "\n",
      "* **What it is:** Composition is the process of combining multiple smaller components or elements to create a larger, more complex structure.  It's like building a house by assembling bricks, windows, and doors.\n",
      "* **Why it matters in prompt engineering:**  Prompt engineering often involves crafting prompts that are not just single instructions but rather a series of steps or instructions. You can use composition to break down complex tasks into smaller, more manageable parts.\n",
      "* **Example:**  Let's say you want to ask an LLM to write a poem about a specific topic. You might break down the task into these steps:\n",
      "    * **Step 1:**  Generate a list of rhyming words related to the topic.\n",
      "    * **Step 2:**  Create a basic poem structure (e.g., AABB rhyme scheme).\n",
      "    * **Step 3:**  Fill in the poem with the rhyming words and a narrative about the topic.\n",
      "\n",
      "**Putting it Together: Serialization and Composition in Action**\n",
      "\n",
      "* **Scenario:** You want to use an LLM to summarize a long article.\n",
      "* **Serialization:** You might serialize the article's text into a JSON format for the LLM to process.\n",
      "* **Composition:** You could then break down the summarization task into steps:\n",
      "    * **Step 1:**  Extract the main points from the article.\n",
      "    * **Step 2:**  Create a"
     ]
    },
    {
     "data": {
      "text/plain": [
       "'\\n\\nLet\\'s break down these concepts in the context of prompt engineering for large language models (LLMs).\\n\\n**1. Serialization**\\n\\n* **What it is:** Serialization is the process of converting a data structure (like a Python list, dictionary, or a complex object) into a string format that can be easily stored, transmitted, or processed. Think of it as packaging your data into a neat, portable box.\\n* **Why it matters in prompt engineering:**  LLMs are powerful but can be picky about the format of the input they receive.  You might need to serialize your data into a specific format (like JSON) to ensure the LLM understands it correctly. \\n* **Example:**  Let\\'s say you want to provide a list of movie titles to an LLM for a movie recommendation task. You might serialize this list into JSON format:\\n\\n```json\\n[\\n  \"The Shawshank Redemption\",\\n  \"Pulp Fiction\",\\n  \"The Dark Knight\"\\n]\\n```\\n\\n**2. Composition**\\n\\n* **What it is:** Composition is the process of combining multiple smaller components or elements to create a larger, more complex structure.  It\\'s like building a house by assembling bricks, windows, and doors.\\n* **Why it matters in prompt engineering:**  Prompt engineering often involves crafting prompts that are not just single instructions but rather a series of steps or instructions. You can use composition to break down complex tasks into smaller, more manageable parts.\\n* **Example:**  Let\\'s say you want to ask an LLM to write a poem about a specific topic. You might break down the task into these steps:\\n    * **Step 1:**  Generate a list of rhyming words related to the topic.\\n    * **Step 2:**  Create a basic poem structure (e.g., AABB rhyme scheme).\\n    * **Step 3:**  Fill in the poem with the rhyming words and a narrative about the topic.\\n\\n**Putting it Together: Serialization and Composition in Action**\\n\\n* **Scenario:** You want to use an LLM to summarize a long article.\\n* **Serialization:** You might serialize the article\\'s text into a JSON format for the LLM to process.\\n* **Composition:** You could then break down the summarization task into steps:\\n    * **Step 1:**  Extract the main points from the article.\\n    * **Step 2:**  Create a'"
      ]
     },
     "execution_count": 19,
     "metadata": {},
     "output_type": "execute_result"
    }
   ],
   "source": [
    "llm.invoke(\"What is Serialization and composition in prompt engineering?\")"
   ]
  },
  {
   "cell_type": "markdown",
   "metadata": {},
   "source": [
    "# Serialization and Composition"
   ]
  },
  {
   "cell_type": "markdown",
   "metadata": {},
   "source": [
    "## Serializatioin"
   ]
  },
  {
   "cell_type": "code",
   "execution_count": 11,
   "metadata": {},
   "outputs": [
    {
     "data": {
      "text/plain": [
       "'what is the capital of South Korea'"
      ]
     },
     "execution_count": 11,
     "metadata": {},
     "output_type": "execute_result"
    }
   ],
   "source": [
    "from langchain.prompts import load_prompt\n",
    "\n",
    "prompt = load_prompt(\"./prompt.json\")\n",
    "# prompt = load_prompt(\"./prompt.yaml\")\n",
    "prompt.format(country=\"South Korea\")"
   ]
  },
  {
   "cell_type": "markdown",
   "metadata": {},
   "source": [
    "## Composition"
   ]
  },
  {
   "cell_type": "markdown",
   "metadata": {},
   "source": [
    "### [PipelinePromptTemplate](https://python.langchain.com/api_reference/core/prompts/langchain_core.prompts.pipeline.PipelinePromptTemplate.html#)"
   ]
  },
  {
   "cell_type": "code",
   "execution_count": 99,
   "metadata": {},
   "outputs": [],
   "source": [
    "from langchain_core.prompts import PromptTemplate\n",
    "from langchain_core.prompts import PipelinePromptTemplate\n",
    "\n",
    "intro = PromptTemplate.from_template(\n",
    "    \"\"\"\n",
    "    You are a role playing assistant.\n",
    "    You are inpersonating a {character}\n",
    "\"\"\"\n",
    ")\n",
    "\n",
    "example = PromptTemplate.from_template(\n",
    "    \"\"\"\n",
    "    This is an example of how you talk:\n",
    "\n",
    "    Human: {example_question}\n",
    "    You: {example_answer}\n",
    "\"\"\"\n",
    ")\n",
    "\n",
    "start = PromptTemplate.from_template(\n",
    "    \"\"\"\n",
    "    Start now!\n",
    "\n",
    "    Human: {question}\n",
    "    You:\n",
    "\"\"\"\n",
    ")\n",
    "\n",
    "final = PromptTemplate.from_template(\n",
    "    \"\"\"\n",
    "    {intro}\n",
    "\n",
    "    {example}\n",
    "\n",
    "    {start}\n",
    "\"\"\"\n",
    ")\n",
    "\n",
    "prompts = [\n",
    "    (\"intro\", intro),\n",
    "    (\"example\", example),\n",
    "    (\"start\", start)\n",
    "]\n",
    "\n",
    "full_prompt = PipelinePromptTemplate(\n",
    "    final_prompt=final,\n",
    "    pipeline_prompts=prompts\n",
    ")"
   ]
  },
  {
   "cell_type": "code",
   "execution_count": 74,
   "metadata": {},
   "outputs": [
    {
     "data": {
      "text/plain": [
       "'\\n    \\n    You are a role playing assistant.\\n    You are inpersonating a Pirate\\n\\n\\n    \\n    This is an example of how you talk:\\n\\n    Human: What is your location?\\n    You: Arrg! That is a secret!\\n\\n\\n    \\n    Start now!\\n\\n    Human: What is your favorite color?\\n    You:\\n\\n'"
      ]
     },
     "execution_count": 74,
     "metadata": {},
     "output_type": "execute_result"
    }
   ],
   "source": [
    "full_prompt.format(\n",
    "    character=\"Pirate\",\n",
    "    example_question=\"What is your location?\",\n",
    "    example_answer=\"Arrg! That is a secret!\",\n",
    "    question=\"What is your favorite food?\"\n",
    ")"
   ]
  },
  {
   "cell_type": "code",
   "execution_count": 77,
   "metadata": {},
   "outputs": [
    {
     "name": "stdout",
     "output_type": "stream",
     "text": [
      "    \n",
      "    Arrr! Me favorite food be a hearty stew with some good ol' dried meat. \n",
      "    \n",
      "\n",
      "\n",
      "\n",
      "<end_of_turn>"
     ]
    },
    {
     "data": {
      "text/plain": [
       "\"    \\n    Arrr! Me favorite food be a hearty stew with some good ol' dried meat. \\n    \\n\\n\\n\\n<end_of_turn>\""
      ]
     },
     "execution_count": 77,
     "metadata": {},
     "output_type": "execute_result"
    }
   ],
   "source": [
    "chain = full_prompt | llm\n",
    "\n",
    "chain.invoke({\n",
    "    \"character\":\"Pirate\",\n",
    "    \"example_question\":\"What is your location?\",\n",
    "    \"example_answer\":\"Arrg! That is a secret!\",\n",
    "    \"question\":\"What is your favorite food?\"\n",
    "})"
   ]
  },
  {
   "cell_type": "markdown",
   "metadata": {},
   "source": [
    "# [LLM Caching](https://python.langchain.com/docs/integrations/llm_caching/)"
   ]
  },
  {
   "cell_type": "code",
   "execution_count": 85,
   "metadata": {},
   "outputs": [
    {
     "name": "stdout",
     "output_type": "stream",
     "text": [
      "The token has not been saved to the git credentials helper. Pass `add_to_git_credential=True` in this function directly or `--add-to-git-credential` if using via `huggingface-cli` if you want to set the git credential as well.\n",
      "Token is valid (permission: read).\n",
      "Your token has been saved to /home/cjung-mo/.cache/huggingface/token\n",
      "Login successful\n"
     ]
    }
   ],
   "source": [
    "from langchain.globals import set_llm_cache, set_debug\n",
    "from langchain_community.cache import InMemoryCache, SQLiteCache\n",
    "\n",
    "set_llm_cache(InMemoryCache())\n",
    "set_debug(True)\n",
    "\n",
    "llm = HuggingFaceEndpoint(\n",
    "    repo_id=repo_id,\n",
    "    temperature=0.1\n",
    ")"
   ]
  },
  {
   "cell_type": "markdown",
   "metadata": {},
   "source": [
    "## InMemoryCache"
   ]
  },
  {
   "cell_type": "code",
   "execution_count": 79,
   "metadata": {},
   "outputs": [
    {
     "name": "stderr",
     "output_type": "stream",
     "text": [
      "/tmp/ipykernel_43275/2688879220.py:1: LangChainDeprecationWarning: The method `BaseLLM.predict` was deprecated in langchain-core 0.1.7 and will be removed in 1.0. Use :meth:`~invoke` instead.\n",
      "  llm.predict(\"How to make Kimchi Stew?\")\n"
     ]
    },
    {
     "name": "stdout",
     "output_type": "stream",
     "text": [
      "\u001b[32;1m\u001b[1;3m[llm/start]\u001b[0m \u001b[1m[llm:HuggingFaceEndpoint] Entering LLM run with input:\n",
      "\u001b[0m{\n",
      "  \"prompts\": [\n",
      "    \"How to make Kimchi Stew?\"\n",
      "  ]\n",
      "}\n",
      "\u001b[36;1m\u001b[1;3m[llm/end]\u001b[0m \u001b[1m[llm:HuggingFaceEndpoint] [8.61s] Exiting LLM run with output:\n",
      "\u001b[0m{\n",
      "  \"generations\": [\n",
      "    [\n",
      "      {\n",
      "        \"text\": \"\\n\\nKimchi stew, also known as kimchi jjigae, is a popular Korean dish that is both comforting and flavorful. It's a hearty stew made with kimchi, tofu, pork, and other vegetables. \\n\\nHere's a basic recipe for kimchi stew:\\n\\n**Ingredients:**\\n\\n* 1 tbsp vegetable oil\\n* 1/2 cup chopped onion\\n* 1/2 cup chopped garlic\\n* 1/2 cup chopped ginger\\n* 1 lb pork belly, cut into 1-inch cubes\\n* 1 tbsp gochujang (Korean chili paste)\\n* 1/2 cup gochugaru (Korean chili flakes)\\n* 1/4 cup soy sauce\\n* 1/4 cup rice wine (optional)\\n* 1 cup kimchi, chopped\\n* 1/2 cup chopped tofu\\n* 1/2 cup chopped mushrooms (optional)\\n* 1/4 cup chopped green onions\\n* 1 tbsp sesame oil\\n* Salt and pepper to taste\\n\\n**Instructions:**\\n\\n1. Heat the vegetable oil in a large pot or Dutch oven over medium heat.\\n2. Add the onion, garlic, and ginger and cook until softened, about 5 minutes.\\n3. Add the pork belly and cook until browned on all sides, about 5 minutes.\\n4. Stir in the gochujang, gochugaru, soy sauce, and rice wine (if using).\\n5. Add the kimchi, tofu, mushrooms (if using), and green onions.\\n6. Bring the mixture to a boil, then reduce heat and simmer for 15-20 minutes, or until the pork is cooked through and the flavors have melded.\\n7. Season with salt and pepper to taste.\\n8. Drizzle with sesame oil and serve hot.\\n\\n**Tips:**\\n\\n* You can use any type of pork belly for this recipe, but it's best to use a fatty cut that will render its fat into the stew.\\n* If you don't have gochujang, you can substitute it with a combination of gochugaru and soy sauce.\\n* You can add other vegetables to your kimchi stew, such as carrots, potatoes, or spinach.\\n* Serve kimchi stew with rice, noodles, or even just on its own.\\n\\n**Variations:**\\n\\n* **Spicy Kimchi Stew:** Add more gochugaru for a spicier stew.\\n* **Seafood\",\n",
      "        \"generation_info\": null,\n",
      "        \"type\": \"Generation\"\n",
      "      }\n",
      "    ]\n",
      "  ],\n",
      "  \"llm_output\": null,\n",
      "  \"run\": null,\n",
      "  \"type\": \"LLMResult\"\n",
      "}\n"
     ]
    },
    {
     "data": {
      "text/plain": [
       "\"\\n\\nKimchi stew, also known as kimchi jjigae, is a popular Korean dish that is both comforting and flavorful. It's a hearty stew made with kimchi, tofu, pork, and other vegetables. \\n\\nHere's a basic recipe for kimchi stew:\\n\\n**Ingredients:**\\n\\n* 1 tbsp vegetable oil\\n* 1/2 cup chopped onion\\n* 1/2 cup chopped garlic\\n* 1/2 cup chopped ginger\\n* 1 lb pork belly, cut into 1-inch cubes\\n* 1 tbsp gochujang (Korean chili paste)\\n* 1/2 cup gochugaru (Korean chili flakes)\\n* 1/4 cup soy sauce\\n* 1/4 cup rice wine (optional)\\n* 1 cup kimchi, chopped\\n* 1/2 cup chopped tofu\\n* 1/2 cup chopped mushrooms (optional)\\n* 1/4 cup chopped green onions\\n* 1 tbsp sesame oil\\n* Salt and pepper to taste\\n\\n**Instructions:**\\n\\n1. Heat the vegetable oil in a large pot or Dutch oven over medium heat.\\n2. Add the onion, garlic, and ginger and cook until softened, about 5 minutes.\\n3. Add the pork belly and cook until browned on all sides, about 5 minutes.\\n4. Stir in the gochujang, gochugaru, soy sauce, and rice wine (if using).\\n5. Add the kimchi, tofu, mushrooms (if using), and green onions.\\n6. Bring the mixture to a boil, then reduce heat and simmer for 15-20 minutes, or until the pork is cooked through and the flavors have melded.\\n7. Season with salt and pepper to taste.\\n8. Drizzle with sesame oil and serve hot.\\n\\n**Tips:**\\n\\n* You can use any type of pork belly for this recipe, but it's best to use a fatty cut that will render its fat into the stew.\\n* If you don't have gochujang, you can substitute it with a combination of gochugaru and soy sauce.\\n* You can add other vegetables to your kimchi stew, such as carrots, potatoes, or spinach.\\n* Serve kimchi stew with rice, noodles, or even just on its own.\\n\\n**Variations:**\\n\\n* **Spicy Kimchi Stew:** Add more gochugaru for a spicier stew.\\n* **Seafood\""
      ]
     },
     "execution_count": 79,
     "metadata": {},
     "output_type": "execute_result"
    }
   ],
   "source": [
    "llm.predict(\"How to make Kimchi Stew?\")"
   ]
  },
  {
   "cell_type": "code",
   "execution_count": 80,
   "metadata": {},
   "outputs": [
    {
     "data": {
      "text/plain": [
       "\"\\n\\nKimchi stew, also known as kimchi jjigae, is a popular Korean dish that is both comforting and flavorful. It's a hearty stew made with kimchi, tofu, pork, and other vegetables. \\n\\nHere's a basic recipe for kimchi stew:\\n\\n**Ingredients:**\\n\\n* 1 tbsp vegetable oil\\n* 1/2 cup chopped onion\\n* 1/2 cup chopped garlic\\n* 1/2 cup chopped ginger\\n* 1 lb pork belly, cut into 1-inch cubes\\n* 1 tbsp gochujang (Korean chili paste)\\n* 1/2 cup gochugaru (Korean chili flakes)\\n* 1/4 cup soy sauce\\n* 1/4 cup rice wine (optional)\\n* 1 cup kimchi, chopped\\n* 1/2 cup chopped tofu\\n* 1/2 cup chopped mushrooms (optional)\\n* 1/4 cup chopped green onions\\n* 1 tbsp sesame oil\\n* Salt and pepper to taste\\n\\n**Instructions:**\\n\\n1. Heat the vegetable oil in a large pot or Dutch oven over medium heat.\\n2. Add the onion, garlic, and ginger and cook until softened, about 5 minutes.\\n3. Add the pork belly and cook until browned on all sides, about 5 minutes.\\n4. Stir in the gochujang, gochugaru, soy sauce, and rice wine (if using).\\n5. Add the kimchi, tofu, mushrooms (if using), and green onions.\\n6. Bring the mixture to a boil, then reduce heat and simmer for 15-20 minutes, or until the pork is cooked through and the flavors have melded.\\n7. Season with salt and pepper to taste.\\n8. Drizzle with sesame oil and serve hot.\\n\\n**Tips:**\\n\\n* You can use any type of pork belly for this recipe, but it's best to use a fatty cut that will render its fat into the stew.\\n* If you don't have gochujang, you can substitute it with a combination of gochugaru and soy sauce.\\n* You can add other vegetables to your kimchi stew, such as carrots, potatoes, or spinach.\\n* Serve kimchi stew with rice, noodles, or even just on its own.\\n\\n**Variations:**\\n\\n* **Spicy Kimchi Stew:** Add more gochugaru for a spicier stew.\\n* **Seafood\""
      ]
     },
     "execution_count": 80,
     "metadata": {},
     "output_type": "execute_result"
    }
   ],
   "source": [
    "llm.predict(\"How to make Kimchi Stew?\")"
   ]
  },
  {
   "cell_type": "markdown",
   "metadata": {},
   "source": [
    "## SQLiteCache"
   ]
  },
  {
   "cell_type": "code",
   "execution_count": 83,
   "metadata": {},
   "outputs": [
    {
     "name": "stdout",
     "output_type": "stream",
     "text": [
      "\u001b[32;1m\u001b[1;3m[llm/start]\u001b[0m \u001b[1m[llm:HuggingFaceEndpoint] Entering LLM run with input:\n",
      "\u001b[0m{\n",
      "  \"prompts\": [\n",
      "    \"How to survive in a forest?\"\n",
      "  ]\n",
      "}\n",
      "\u001b[36;1m\u001b[1;3m[llm/end]\u001b[0m \u001b[1m[llm:HuggingFaceEndpoint] [8.65s] Exiting LLM run with output:\n",
      "\u001b[0m{\n",
      "  \"generations\": [\n",
      "    [\n",
      "      {\n",
      "        \"text\": \"\\n\\n**Disclaimer:** This information is for general knowledge and survival purposes only. It is not a substitute for professional training or emergency services.\\n\\n**1. Stay Calm and Assess the Situation:**\\n\\n* **Panic is your worst enemy.** Take deep breaths and assess your surroundings.\\n* **Identify potential dangers:** Are there wild animals, poisonous plants, or unstable terrain?\\n* **Check for injuries:** Treat any wounds immediately.\\n\\n**2. Shelter:**\\n\\n* **Find a natural shelter:** Look for a cave, overhang, or dense thicket.\\n* **Build a lean-to:** Use branches, leaves, and debris to create a temporary shelter.\\n* **Use natural materials:** Gather leaves, branches, and moss to insulate your shelter.\\n\\n**3. Water:**\\n\\n* **Find a water source:** Look for streams, rivers, or springs.\\n* **Collect rainwater:** Use a tarp or container to collect rainwater.\\n* **Purify water:** Boil water for at least one minute or use a water filter.\\n\\n**4. Fire:**\\n\\n* **Find tinder:** Look for dry grass, leaves, or bark.\\n* **Gather kindling:** Collect small twigs and branches.\\n* **Build a fire:** Use a bow drill, hand drill, or friction method.\\n\\n**5. Food:**\\n\\n* **Identify edible plants:** Learn to identify safe and edible plants.\\n* **Trap small animals:** Use snares or traps to catch small animals.\\n* **Hunt small game:** Use a bow and arrow or spear to hunt small game.\\n\\n**6. Signaling for Help:**\\n\\n* **Build a signal fire:** A large, visible fire can attract attention.\\n* **Use mirrors or reflective surfaces:** Reflect sunlight to signal for help.\\n* **Create a signal with rocks or branches:** Arrange rocks or branches in a specific pattern.\\n\\n**7. Stay Warm:**\\n\\n* **Find a sheltered spot:** Seek out a cave or overhang.\\n* **Wear layers of clothing:** Use natural materials like wool or fur.\\n* **Build a fire:** A fire will provide warmth and light.\\n\\n**8. Be Aware of Your Surroundings:**\\n\\n* **Stay alert:** Be aware of your surroundings and potential dangers.\\n* **Avoid dangerous animals:** Stay away from known dangerous animals.\\n* **Respect the environment:** Leave no trace and avoid disturbing the natural environment.\\n\\n**9. Stay Positive:**\\n\\n* **Maintain a positive attitude:** This will help you\",\n",
      "        \"generation_info\": null,\n",
      "        \"type\": \"Generation\"\n",
      "      }\n",
      "    ]\n",
      "  ],\n",
      "  \"llm_output\": null,\n",
      "  \"run\": null,\n",
      "  \"type\": \"LLMResult\"\n",
      "}\n"
     ]
    },
    {
     "data": {
      "text/plain": [
       "'\\n\\n**Disclaimer:** This information is for general knowledge and survival purposes only. It is not a substitute for professional training or emergency services.\\n\\n**1. Stay Calm and Assess the Situation:**\\n\\n* **Panic is your worst enemy.** Take deep breaths and assess your surroundings.\\n* **Identify potential dangers:** Are there wild animals, poisonous plants, or unstable terrain?\\n* **Check for injuries:** Treat any wounds immediately.\\n\\n**2. Shelter:**\\n\\n* **Find a natural shelter:** Look for a cave, overhang, or dense thicket.\\n* **Build a lean-to:** Use branches, leaves, and debris to create a temporary shelter.\\n* **Use natural materials:** Gather leaves, branches, and moss to insulate your shelter.\\n\\n**3. Water:**\\n\\n* **Find a water source:** Look for streams, rivers, or springs.\\n* **Collect rainwater:** Use a tarp or container to collect rainwater.\\n* **Purify water:** Boil water for at least one minute or use a water filter.\\n\\n**4. Fire:**\\n\\n* **Find tinder:** Look for dry grass, leaves, or bark.\\n* **Gather kindling:** Collect small twigs and branches.\\n* **Build a fire:** Use a bow drill, hand drill, or friction method.\\n\\n**5. Food:**\\n\\n* **Identify edible plants:** Learn to identify safe and edible plants.\\n* **Trap small animals:** Use snares or traps to catch small animals.\\n* **Hunt small game:** Use a bow and arrow or spear to hunt small game.\\n\\n**6. Signaling for Help:**\\n\\n* **Build a signal fire:** A large, visible fire can attract attention.\\n* **Use mirrors or reflective surfaces:** Reflect sunlight to signal for help.\\n* **Create a signal with rocks or branches:** Arrange rocks or branches in a specific pattern.\\n\\n**7. Stay Warm:**\\n\\n* **Find a sheltered spot:** Seek out a cave or overhang.\\n* **Wear layers of clothing:** Use natural materials like wool or fur.\\n* **Build a fire:** A fire will provide warmth and light.\\n\\n**8. Be Aware of Your Surroundings:**\\n\\n* **Stay alert:** Be aware of your surroundings and potential dangers.\\n* **Avoid dangerous animals:** Stay away from known dangerous animals.\\n* **Respect the environment:** Leave no trace and avoid disturbing the natural environment.\\n\\n**9. Stay Positive:**\\n\\n* **Maintain a positive attitude:** This will help you'"
      ]
     },
     "execution_count": 83,
     "metadata": {},
     "output_type": "execute_result"
    }
   ],
   "source": [
    "set_llm_cache(SQLiteCache(\"cache.db\"))\n",
    "\n",
    "llm.predict(\"How to survive in a forest?\")"
   ]
  },
  {
   "cell_type": "code",
   "execution_count": 84,
   "metadata": {},
   "outputs": [
    {
     "data": {
      "text/plain": [
       "'\\n\\n**Disclaimer:** This information is for general knowledge and survival purposes only. It is not a substitute for professional training or emergency services.\\n\\n**1. Stay Calm and Assess the Situation:**\\n\\n* **Panic is your worst enemy.** Take deep breaths and assess your surroundings.\\n* **Identify potential dangers:** Are there wild animals, poisonous plants, or unstable terrain?\\n* **Check for injuries:** Treat any wounds immediately.\\n\\n**2. Shelter:**\\n\\n* **Find a natural shelter:** Look for a cave, overhang, or dense thicket.\\n* **Build a lean-to:** Use branches, leaves, and debris to create a temporary shelter.\\n* **Use natural materials:** Gather leaves, branches, and moss to insulate your shelter.\\n\\n**3. Water:**\\n\\n* **Find a water source:** Look for streams, rivers, or springs.\\n* **Collect rainwater:** Use a tarp or container to collect rainwater.\\n* **Purify water:** Boil water for at least one minute or use a water filter.\\n\\n**4. Fire:**\\n\\n* **Find tinder:** Look for dry grass, leaves, or bark.\\n* **Gather kindling:** Collect small twigs and branches.\\n* **Build a fire:** Use a bow drill, hand drill, or friction method.\\n\\n**5. Food:**\\n\\n* **Identify edible plants:** Learn to identify safe and edible plants.\\n* **Trap small animals:** Use snares or traps to catch small animals.\\n* **Hunt small game:** Use a bow and arrow or spear to hunt small game.\\n\\n**6. Signaling for Help:**\\n\\n* **Build a signal fire:** A large, visible fire can attract attention.\\n* **Use mirrors or reflective surfaces:** Reflect sunlight to signal for help.\\n* **Create a signal with rocks or branches:** Arrange rocks or branches in a specific pattern.\\n\\n**7. Stay Warm:**\\n\\n* **Find a sheltered spot:** Seek out a cave or overhang.\\n* **Wear layers of clothing:** Use natural materials like wool or fur.\\n* **Build a fire:** A fire will provide warmth and light.\\n\\n**8. Be Aware of Your Surroundings:**\\n\\n* **Stay alert:** Be aware of your surroundings and potential dangers.\\n* **Avoid dangerous animals:** Stay away from known dangerous animals.\\n* **Respect the environment:** Leave no trace and avoid disturbing the natural environment.\\n\\n**9. Stay Positive:**\\n\\n* **Maintain a positive attitude:** This will help you'"
      ]
     },
     "execution_count": 84,
     "metadata": {},
     "output_type": "execute_result"
    }
   ],
   "source": [
    "llm.predict(\"How to survive in a forest?\")"
   ]
  }
 ],
 "metadata": {
  "kernelspec": {
   "display_name": "venv",
   "language": "python",
   "name": "python3"
  },
  "language_info": {
   "codemirror_mode": {
    "name": "ipython",
    "version": 3
   },
   "file_extension": ".py",
   "mimetype": "text/x-python",
   "name": "python",
   "nbconvert_exporter": "python",
   "pygments_lexer": "ipython3",
   "version": "3.10.12"
  }
 },
 "nbformat": 4,
 "nbformat_minor": 2
}
