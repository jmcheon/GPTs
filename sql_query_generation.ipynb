{
 "cells": [
  {
   "cell_type": "markdown",
   "metadata": {},
   "source": [
    "## Table of Contents\n",
    "0. Project Overview\n",
    "1. Convert Tabluar Data to SQL DB\n",
    "2. Create NLP Request \n",
    "3. Convert NLP commands to SQL queries using OpenAI API\n",
    "4. Input SQL Query into DB"
   ]
  },
  {
   "cell_type": "markdown",
   "metadata": {},
   "source": [
    "## 0. Project Overview"
   ]
  },
  {
   "cell_type": "markdown",
   "metadata": {},
   "source": [
    "This project aims to generate and convert natural language input into SQL queries.\n",
    "\n",
    "As companies increasingly recognize the importance of utilizing and collecting data, there has been an emphasis on enhancing data literacy capabilities to extract and understand data.\n",
    "\n",
    "The goal is to provide SQL queries through the OpenAI API, enabling non-developers such as PMs, planners, and product owners, who have a good understanding of data but have never written queries themselves, to sufficiently search and utilize information."
   ]
  },
  {
   "cell_type": "markdown",
   "metadata": {},
   "source": [
    "For example,\n",
    "It is common to rely on developers or data analysts who can handle SQL whenever one wants to check data(e.g., PMs, marketing, sales, non-developers, executives, etc.)\n",
    "- Top 5 countries or cities where the product sells the best\n",
    "- Which region contributes the most to monthly sales"
   ]
  },
  {
   "cell_type": "markdown",
   "metadata": {},
   "source": [
    "## 1. Convert Tabluar Data to SQL DB"
   ]
  },
  {
   "cell_type": "markdown",
   "metadata": {},
   "source": [
    "### 1-1. Install required libraries"
   ]
  },
  {
   "cell_type": "code",
   "execution_count": null,
   "metadata": {},
   "outputs": [],
   "source": [
    "import pandas as pd\n",
    "import os\n",
    "from openai import OpenAI"
   ]
  },
  {
   "cell_type": "markdown",
   "metadata": {},
   "source": [
    "### 1-2. Call Data"
   ]
  },
  {
   "cell_type": "code",
   "execution_count": 3,
   "metadata": {},
   "outputs": [
    {
     "data": {
      "text/html": [
       "<div>\n",
       "<style scoped>\n",
       "    .dataframe tbody tr th:only-of-type {\n",
       "        vertical-align: middle;\n",
       "    }\n",
       "\n",
       "    .dataframe tbody tr th {\n",
       "        vertical-align: top;\n",
       "    }\n",
       "\n",
       "    .dataframe thead th {\n",
       "        text-align: right;\n",
       "    }\n",
       "</style>\n",
       "<table border=\"1\" class=\"dataframe\">\n",
       "  <thead>\n",
       "    <tr style=\"text-align: right;\">\n",
       "      <th></th>\n",
       "      <th>Retailer</th>\n",
       "      <th>Retailer ID</th>\n",
       "      <th>Invoice Date</th>\n",
       "      <th>Region</th>\n",
       "      <th>State</th>\n",
       "      <th>City</th>\n",
       "      <th>Gender Type</th>\n",
       "      <th>Product Category</th>\n",
       "      <th>Price per Unit</th>\n",
       "      <th>Units Sold</th>\n",
       "      <th>Total Sales</th>\n",
       "      <th>Operating Profit</th>\n",
       "      <th>Operating Margin</th>\n",
       "      <th>Sales Method</th>\n",
       "    </tr>\n",
       "  </thead>\n",
       "  <tbody>\n",
       "    <tr>\n",
       "      <th>0</th>\n",
       "      <td>Foot Locker</td>\n",
       "      <td>1185732</td>\n",
       "      <td>2021-10-26</td>\n",
       "      <td>Northeast</td>\n",
       "      <td>Pennsylvania</td>\n",
       "      <td>Philadelphia</td>\n",
       "      <td>Men</td>\n",
       "      <td>Apparel</td>\n",
       "      <td>55</td>\n",
       "      <td>125</td>\n",
       "      <td>68750.0</td>\n",
       "      <td>24062.5</td>\n",
       "      <td>0.35</td>\n",
       "      <td>Outlet</td>\n",
       "    </tr>\n",
       "    <tr>\n",
       "      <th>1</th>\n",
       "      <td>Foot Locker</td>\n",
       "      <td>1185732</td>\n",
       "      <td>2021-10-27</td>\n",
       "      <td>Northeast</td>\n",
       "      <td>Pennsylvania</td>\n",
       "      <td>Philadelphia</td>\n",
       "      <td>Women</td>\n",
       "      <td>Apparel</td>\n",
       "      <td>45</td>\n",
       "      <td>225</td>\n",
       "      <td>101250.0</td>\n",
       "      <td>30375.0</td>\n",
       "      <td>0.30</td>\n",
       "      <td>Outlet</td>\n",
       "    </tr>\n",
       "    <tr>\n",
       "      <th>2</th>\n",
       "      <td>Foot Locker</td>\n",
       "      <td>1185732</td>\n",
       "      <td>2021-10-28</td>\n",
       "      <td>Northeast</td>\n",
       "      <td>Pennsylvania</td>\n",
       "      <td>Philadelphia</td>\n",
       "      <td>Men</td>\n",
       "      <td>Street Footwear</td>\n",
       "      <td>45</td>\n",
       "      <td>475</td>\n",
       "      <td>213750.0</td>\n",
       "      <td>117562.5</td>\n",
       "      <td>0.55</td>\n",
       "      <td>Outlet</td>\n",
       "    </tr>\n",
       "    <tr>\n",
       "      <th>3</th>\n",
       "      <td>Foot Locker</td>\n",
       "      <td>1185732</td>\n",
       "      <td>2021-10-29</td>\n",
       "      <td>Northeast</td>\n",
       "      <td>Pennsylvania</td>\n",
       "      <td>Philadelphia</td>\n",
       "      <td>Men</td>\n",
       "      <td>Athletic Footwear</td>\n",
       "      <td>45</td>\n",
       "      <td>125</td>\n",
       "      <td>56250.0</td>\n",
       "      <td>19687.5</td>\n",
       "      <td>0.35</td>\n",
       "      <td>Outlet</td>\n",
       "    </tr>\n",
       "    <tr>\n",
       "      <th>4</th>\n",
       "      <td>Foot Locker</td>\n",
       "      <td>1185732</td>\n",
       "      <td>2021-10-30</td>\n",
       "      <td>Northeast</td>\n",
       "      <td>Pennsylvania</td>\n",
       "      <td>Philadelphia</td>\n",
       "      <td>Women</td>\n",
       "      <td>Street Footwear</td>\n",
       "      <td>35</td>\n",
       "      <td>175</td>\n",
       "      <td>61250.0</td>\n",
       "      <td>24500.0</td>\n",
       "      <td>0.40</td>\n",
       "      <td>Outlet</td>\n",
       "    </tr>\n",
       "  </tbody>\n",
       "</table>\n",
       "</div>"
      ],
      "text/plain": [
       "      Retailer  Retailer ID Invoice Date     Region         State  \\\n",
       "0  Foot Locker      1185732   2021-10-26  Northeast  Pennsylvania   \n",
       "1  Foot Locker      1185732   2021-10-27  Northeast  Pennsylvania   \n",
       "2  Foot Locker      1185732   2021-10-28  Northeast  Pennsylvania   \n",
       "3  Foot Locker      1185732   2021-10-29  Northeast  Pennsylvania   \n",
       "4  Foot Locker      1185732   2021-10-30  Northeast  Pennsylvania   \n",
       "\n",
       "           City Gender Type   Product Category  Price per Unit  Units Sold  \\\n",
       "0  Philadelphia         Men            Apparel              55         125   \n",
       "1  Philadelphia       Women            Apparel              45         225   \n",
       "2  Philadelphia         Men    Street Footwear              45         475   \n",
       "3  Philadelphia         Men  Athletic Footwear              45         125   \n",
       "4  Philadelphia       Women    Street Footwear              35         175   \n",
       "\n",
       "   Total Sales  Operating Profit  Operating Margin Sales Method  \n",
       "0      68750.0           24062.5              0.35       Outlet  \n",
       "1     101250.0           30375.0              0.30       Outlet  \n",
       "2     213750.0          117562.5              0.55       Outlet  \n",
       "3      56250.0           19687.5              0.35       Outlet  \n",
       "4      61250.0           24500.0              0.40       Outlet  "
      ]
     },
     "execution_count": 3,
     "metadata": {},
     "output_type": "execute_result"
    }
   ],
   "source": [
    "df = pd.read_excel(\"./datasets/AdidasSalesdata.xlsx\")\n",
    "df.head(5)"
   ]
  },
  {
   "cell_type": "code",
   "execution_count": 4,
   "metadata": {},
   "outputs": [
    {
     "data": {
      "text/plain": [
       "Index(['Retailer', 'Retailer ID', 'Invoice Date', 'Region', 'State', 'City',\n",
       "       'Gender Type', 'Product Category', 'Price per Unit', 'Units Sold',\n",
       "       'Total Sales', 'Operating Profit', 'Operating Margin', 'Sales Method'],\n",
       "      dtype='object')"
      ]
     },
     "execution_count": 4,
     "metadata": {},
     "output_type": "execute_result"
    }
   ],
   "source": [
    "df.columns"
   ]
  },
  {
   "cell_type": "code",
   "execution_count": 5,
   "metadata": {},
   "outputs": [
    {
     "data": {
      "text/plain": [
       "Index(['Retailer', 'Retailer_ID', 'Invoice_Date', 'Region', 'State', 'City',\n",
       "       'Gender_Type', 'Product_Category', 'Price_per_Unit', 'Units_Sold',\n",
       "       'Total_Sales', 'Operating_Profit', 'Operating_Margin', 'Sales_Method'],\n",
       "      dtype='object')"
      ]
     },
     "execution_count": 5,
     "metadata": {},
     "output_type": "execute_result"
    }
   ],
   "source": [
    "df.columns = [col.replace(' ', '_') for col in df.columns]\n",
    "df.columns"
   ]
  },
  {
   "cell_type": "markdown",
   "metadata": {},
   "source": [
    "### 1-2.1 Check Data"
   ]
  },
  {
   "cell_type": "code",
   "execution_count": 26,
   "metadata": {},
   "outputs": [
    {
     "data": {
      "text/plain": [
       "Region\n",
       "West         269943182.0\n",
       "Northeast    186324067.0\n",
       "Southeast    163171236.0\n",
       "South        144663181.0\n",
       "Midwest      135800459.0\n",
       "Name: Total_Sales, dtype: float64"
      ]
     },
     "execution_count": 26,
     "metadata": {},
     "output_type": "execute_result"
    }
   ],
   "source": [
    "# the most basic way to check data using groupby\n",
    "# sum of sales by region\n",
    "df.groupby(\"Region\").sum([\"Total_Sales\"])[\"Total_Sales\"].sort_values(ascending=False)"
   ]
  },
  {
   "cell_type": "markdown",
   "metadata": {},
   "source": [
    "### 1-3. Generate SQL Database"
   ]
  },
  {
   "cell_type": "code",
   "execution_count": 7,
   "metadata": {},
   "outputs": [],
   "source": [
    "from sqlalchemy import create_engine, text"
   ]
  },
  {
   "cell_type": "code",
   "execution_count": 8,
   "metadata": {},
   "outputs": [],
   "source": [
    "temp_db = create_engine(\"sqlite:///:memory:\", echo=True)"
   ]
  },
  {
   "cell_type": "code",
   "execution_count": 9,
   "metadata": {},
   "outputs": [
    {
     "name": "stdout",
     "output_type": "stream",
     "text": [
      "2024-07-15 19:42:22,668 INFO sqlalchemy.engine.Engine BEGIN (implicit)\n",
      "2024-07-15 19:42:22,675 INFO sqlalchemy.engine.Engine PRAGMA main.table_info(\"Sales\")\n",
      "2024-07-15 19:42:22,676 INFO sqlalchemy.engine.Engine [raw sql] ()\n",
      "2024-07-15 19:42:22,678 INFO sqlalchemy.engine.Engine PRAGMA temp.table_info(\"Sales\")\n",
      "2024-07-15 19:42:22,678 INFO sqlalchemy.engine.Engine [raw sql] ()\n",
      "2024-07-15 19:42:22,682 INFO sqlalchemy.engine.Engine \n",
      "CREATE TABLE \"Sales\" (\n",
      "\t\"index\" BIGINT, \n",
      "\t\"Retailer\" TEXT, \n",
      "\t\"Retailer_ID\" BIGINT, \n",
      "\t\"Invoice_Date\" DATETIME, \n",
      "\t\"Region\" TEXT, \n",
      "\t\"State\" TEXT, \n",
      "\t\"City\" TEXT, \n",
      "\t\"Gender_Type\" TEXT, \n",
      "\t\"Product_Category\" TEXT, \n",
      "\t\"Price_per_Unit\" BIGINT, \n",
      "\t\"Units_Sold\" BIGINT, \n",
      "\t\"Total_Sales\" FLOAT, \n",
      "\t\"Operating_Profit\" FLOAT, \n",
      "\t\"Operating_Margin\" FLOAT, \n",
      "\t\"Sales_Method\" TEXT\n",
      ")\n",
      "\n",
      "\n",
      "2024-07-15 19:42:22,683 INFO sqlalchemy.engine.Engine [no key 0.00086s] ()\n",
      "2024-07-15 19:42:22,684 INFO sqlalchemy.engine.Engine CREATE INDEX \"ix_Sales_index\" ON \"Sales\" (\"index\")\n",
      "2024-07-15 19:42:22,685 INFO sqlalchemy.engine.Engine [no key 0.00067s] ()\n",
      "2024-07-15 19:42:22,953 INFO sqlalchemy.engine.Engine INSERT INTO \"Sales\" (\"index\", \"Retailer\", \"Retailer_ID\", \"Invoice_Date\", \"Region\", \"State\", \"City\", \"Gender_Type\", \"Product_Category\", \"Price_per_Unit\", \"Units_Sold\", \"Total_Sales\", \"Operating_Profit\", \"Operating_Margin\", \"Sales_Method\") VALUES (?, ?, ?, ?, ?, ?, ?, ?, ?, ?, ?, ?, ?, ?, ?)\n",
      "2024-07-15 19:42:22,953 INFO sqlalchemy.engine.Engine [generated in 0.20849s] [(0, 'Foot Locker', 1185732, '2021-10-26 00:00:00.000000', 'Northeast', 'Pennsylvania', 'Philadelphia', 'Men', 'Apparel', 55, 125, 68750.0, 24062.5, 0.35, 'Outlet'), (1, 'Foot Locker', 1185732, '2021-10-27 00:00:00.000000', 'Northeast', 'Pennsylvania', 'Philadelphia', 'Women', 'Apparel', 45, 225, 101250.0, 30375.0, 0.3, 'Outlet'), (2, 'Foot Locker', 1185732, '2021-10-28 00:00:00.000000', 'Northeast', 'Pennsylvania', 'Philadelphia', 'Men', 'Street Footwear', 45, 475, 213750.0, 117562.5, 0.55, 'Outlet'), (3, 'Foot Locker', 1185732, '2021-10-29 00:00:00.000000', 'Northeast', 'Pennsylvania', 'Philadelphia', 'Men', 'Athletic Footwear', 45, 125, 56250.0, 19687.5, 0.35, 'Outlet'), (4, 'Foot Locker', 1185732, '2021-10-30 00:00:00.000000', 'Northeast', 'Pennsylvania', 'Philadelphia', 'Women', 'Street Footwear', 35, 175, 61250.0, 24500.0, 0.4, 'Outlet'), (5, 'Foot Locker', 1185732, '2021-10-31 00:00:00.000000', 'Northeast', 'Pennsylvania', 'Philadelphia', 'Women', 'Athletic Footwear', 40, 50, 20000.0, 8000.0, 0.4, 'Outlet'), (6, 'Foot Locker', 1185732, '2021-11-01 00:00:00.000000', 'Northeast', 'Pennsylvania', 'Philadelphia', 'Men', 'Apparel', 55, 125, 68750.0, 24062.5, 0.35, 'Outlet'), (7, 'Foot Locker', 1185732, '2021-11-02 00:00:00.000000', 'Northeast', 'Pennsylvania', 'Philadelphia', 'Women', 'Apparel', 45, 225, 101250.0, 30375.0, 0.3, 'Outlet')  ... displaying 10 of 9648 total bound parameter sets ...  (9646, 'West Gear', 1128299, '2020-03-17 00:00:00.000000', 'West', 'Nevada', 'Las Vegas', 'Women', 'Street Footwear', 26, 128, 3328.0, 1397.76, 0.42, 'Outlet'), (9647, 'West Gear', 1128299, '2020-03-18 00:00:00.000000', 'West', 'Nevada', 'Las Vegas', 'Women', 'Athletic Footwear', 26, 96, 2496.0, 848.64, 0.34, 'Outlet')]\n",
      "2024-07-15 19:42:22,998 INFO sqlalchemy.engine.Engine SELECT name FROM sqlite_master WHERE type='table' AND name NOT LIKE 'sqlite~_%' ESCAPE '~' ORDER BY name\n",
      "2024-07-15 19:42:22,999 INFO sqlalchemy.engine.Engine [raw sql] ()\n",
      "2024-07-15 19:42:23,000 INFO sqlalchemy.engine.Engine COMMIT\n"
     ]
    }
   ],
   "source": [
    "data = df.to_sql(name=\"Sales\", con=temp_db)"
   ]
  },
  {
   "cell_type": "code",
   "execution_count": 10,
   "metadata": {},
   "outputs": [
    {
     "name": "stdout",
     "output_type": "stream",
     "text": [
      "2024-07-15 19:42:23,112 INFO sqlalchemy.engine.Engine BEGIN (implicit)\n",
      "2024-07-15 19:42:23,114 INFO sqlalchemy.engine.Engine SELECT Retailer, State, City, Total_Sales, Operating_Profit from Sales ORDER BY Total_Sales DESC LIMIT 1\n",
      "2024-07-15 19:42:23,116 INFO sqlalchemy.engine.Engine [generated in 0.00360s] ()\n",
      "2024-07-15 19:42:23,119 INFO sqlalchemy.engine.Engine ROLLBACK\n"
     ]
    }
   ],
   "source": [
    "with temp_db.connect() as conn:\n",
    "    result = conn.execute(text(\"SELECT Retailer, State, City, Total_Sales, Operating_Profit from Sales ORDER BY Total_Sales DESC LIMIT 1\"))"
   ]
  },
  {
   "cell_type": "code",
   "execution_count": 11,
   "metadata": {},
   "outputs": [
    {
     "data": {
      "text/plain": [
       "[('Walmart', 'Florida', 'Orlando', 825000.0, 371250.0)]"
      ]
     },
     "execution_count": 11,
     "metadata": {},
     "output_type": "execute_result"
    }
   ],
   "source": [
    "result.all()"
   ]
  },
  {
   "cell_type": "markdown",
   "metadata": {},
   "source": [
    "## 2. NLP Request"
   ]
  },
  {
   "cell_type": "markdown",
   "metadata": {},
   "source": [
    "Helper functions to convert natural language commands into SQL statements\n",
    "\n",
    "Required Functions\n",
    "- **table_definition_prompt**: function that informs the structure of the table when using OpenAI API\n",
    "- **prompt_input**: function that retrieves natural language commands entered from the user\n",
    "- **handle_response**: function to retrieve prompt result value for API call"
   ]
  },
  {
   "cell_type": "markdown",
   "metadata": {},
   "source": [
    "### 2-1. Function that informs the structure of the table when using OpenAI API"
   ]
  },
  {
   "cell_type": "code",
   "execution_count": 13,
   "metadata": {},
   "outputs": [],
   "source": [
    "# GPT한테 우리가 다루는 데이터, 테이블이 어떤 구조인지 알려주는 함수\n",
    "\n",
    "def table_definition_prompt(df):\n",
    "    prompt = \"\"\"Given the following sqlite SQL definition, write queries based on the request\n",
    "                \\n### sqlite SQL table, with its properties:\n",
    "    #\n",
    "    # Sales({})\n",
    "    #\n",
    "    \"\"\".format(\",\".join(str(x) for x in df.columns))\n",
    "\n",
    "    return prompt"
   ]
  },
  {
   "cell_type": "code",
   "execution_count": 14,
   "metadata": {},
   "outputs": [
    {
     "name": "stdout",
     "output_type": "stream",
     "text": [
      "Given the following sqlite SQL definition, write queries based on the request\n",
      "                \n",
      "### sqlite SQL table, with its properties:\n",
      "    #\n",
      "    # Sales(Retailer,Retailer_ID,Invoice_Date,Region,State,City,Gender_Type,Product_Category,Price_per_Unit,Units_Sold,Total_Sales,Operating_Profit,Operating_Margin,Sales_Method)\n",
      "    #\n",
      "    \n"
     ]
    }
   ],
   "source": [
    "print(table_definition_prompt(df))"
   ]
  },
  {
   "cell_type": "markdown",
   "metadata": {},
   "source": [
    "### 2-2. Function that retrieves natural language commands entered from the user"
   ]
  },
  {
   "cell_type": "code",
   "execution_count": 15,
   "metadata": {},
   "outputs": [],
   "source": [
    "# 사용자로 부터 어떤걸 확인하고 싶은지 받는 내용의 함수\n",
    "\n",
    "def prompt_input():\n",
    "    nlp_text = input(\"질의 하고자하는 내용을 입력해주세요\")\n",
    "    return nlp_text"
   ]
  },
  {
   "cell_type": "code",
   "execution_count": 16,
   "metadata": {},
   "outputs": [],
   "source": [
    "nlp_text = prompt_input()"
   ]
  },
  {
   "cell_type": "code",
   "execution_count": 17,
   "metadata": {},
   "outputs": [
    {
     "data": {
      "text/plain": [
       "'Given the following sqlite SQL definition, write queries based on the request\\n                \\n### sqlite SQL table, with its properties:\\n    #\\n    # Sales(Retailer,Retailer_ID,Invoice_Date,Region,State,City,Gender_Type,Product_Category,Price_per_Unit,Units_Sold,Total_Sales,Operating_Profit,Operating_Margin,Sales_Method)\\n    #\\n    '"
      ]
     },
     "execution_count": 17,
     "metadata": {},
     "output_type": "execute_result"
    }
   ],
   "source": [
    "full_prompt = str(table_definition_prompt(df)) + str(nlp_text)\n",
    "full_prompt"
   ]
  },
  {
   "cell_type": "markdown",
   "metadata": {},
   "source": [
    "### 2-3. Function to retrieve prompt result value for API call"
   ]
  },
  {
   "cell_type": "code",
   "execution_count": 24,
   "metadata": {},
   "outputs": [],
   "source": [
    "# 필요한 부분만 추출\n",
    "\n",
    "def handle_response(response):\n",
    "    query = response.choices[0].message.content.strip()\n",
    "\n",
    "    if not query.upper().startswith(\"SELECT\"):\n",
    "        query = \"SELECT\" + query\n",
    "    if not query.endswith(\";\"):\n",
    "        query += \";\"\n",
    "    return query"
   ]
  },
  {
   "cell_type": "markdown",
   "metadata": {},
   "source": [
    "## 3. Convert NLP commands to SQL queries using OpenAI API"
   ]
  },
  {
   "cell_type": "markdown",
   "metadata": {},
   "source": [
    "### 3.1 OpenAI setting and key input to use API"
   ]
  },
  {
   "cell_type": "code",
   "execution_count": 25,
   "metadata": {},
   "outputs": [],
   "source": [
    "os.environ[\"OPENAI_API_KEY\"] = \"\"\n",
    "client = OpenAI()"
   ]
  },
  {
   "cell_type": "markdown",
   "metadata": {},
   "source": [
    "### 3.2 API Call\n",
    "\n",
    "- Model: Specifiy the model to use, you can select a specific model such as `gpt-3.5-turbo`.\n",
    "- Message: A list of messages that form the context of the conversations. It can include system messages and user messages, with each message hainv a role and content\n",
    "\t- `system`: Sets the assistant's behavoir by providing instructions.\n",
    "\t- `user`: Represents the user's request or comment that the assistant should respond to\n",
    "- Other adjustable parameters:\n",
    "- `max_token`: Controls the maximum length of the generated text. Useful for limiting the response length in conversational models.\n",
    "- `temperature`: Adjusts the diversity and creativity of the generated response. A lower value will result in more deterministic and predictable responses, while a higher value generates more creative and diverse responses.\n",
    "- `stop`: Specifies a string or array of strings where the generation should stop. This is useful for ending the response at a specific point."
   ]
  },
  {
   "cell_type": "code",
   "execution_count": null,
   "metadata": {},
   "outputs": [],
   "source": [
    "response = client.chat.completions.create(\n",
    "    model=\"gpt-3.5-turbo\",\n",
    "    messages=[\n",
    "        {\"role\": \"system\", \"content\": \"You are an assistant that generates SQL queries based on the given SQLite table definition and a natural language request. The query should start with 'SELECT' and ends with a semi-colon(;).\"},\n",
    "        {\"role\": \"user\", \"content\": f\"A query to answer: {full_prompt}\"},\n",
    "    ],\n",
    "    max_tokens=200,\n",
    "    temperature=1.0,\n",
    "    stop=None,\n",
    ")"
   ]
  },
  {
   "cell_type": "code",
   "execution_count": null,
   "metadata": {},
   "outputs": [],
   "source": [
    "response"
   ]
  },
  {
   "cell_type": "code",
   "execution_count": null,
   "metadata": {},
   "outputs": [],
   "source": [
    "print(handle_response(response))"
   ]
  },
  {
   "cell_type": "markdown",
   "metadata": {},
   "source": [
    "## 4. Input SQL Query into DB"
   ]
  },
  {
   "cell_type": "code",
   "execution_count": null,
   "metadata": {},
   "outputs": [],
   "source": [
    "with temp_db.connect() as conn:\n",
    "    result = conn.execute(text(handle_response(response)))"
   ]
  },
  {
   "cell_type": "code",
   "execution_count": null,
   "metadata": {},
   "outputs": [],
   "source": [
    "result.all()"
   ]
  }
 ],
 "metadata": {
  "kernelspec": {
   "display_name": "42AI-cjung-mo",
   "language": "python",
   "name": "python3"
  },
  "language_info": {
   "codemirror_mode": {
    "name": "ipython",
    "version": 3
   },
   "file_extension": ".py",
   "mimetype": "text/x-python",
   "name": "python",
   "nbconvert_exporter": "python",
   "pygments_lexer": "ipython3",
   "version": "3.11.5"
  }
 },
 "nbformat": 4,
 "nbformat_minor": 2
}
